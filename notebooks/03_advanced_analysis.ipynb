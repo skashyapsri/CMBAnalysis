{
 "cells": [
  {
   "cell_type": "markdown",
   "metadata": {},
   "source": [
    "# Advanced CMB Analysis Techniques\n",
    "\n",
    "This notebook demonstrates advanced analysis techniques including:\n",
    "- Custom model implementation\n",
    "- Advanced MCMC techniques\n",
    "- Error analysis\n",
    "- Publication-quality visualization\n",
    "\n",
    "## Setup"
   ]
  },
  {
   "cell_type": "code",
   "execution_count": null,
   "metadata": {},
   "source": [
    "import numpy as np\n",
    "import matplotlib.pyplot as plt\n",
    "from cmb_analysis.cosmology import CosmologyModel, LCDM\n",
    "from cmb_analysis.analysis import (\n",
    "    PowerSpectrumCalculator,\n",
    "    MCMCAnalysis,\n",
    "    CosmicTransferFunctions\n",
    ")\n",
    "from cmb_analysis.visualization import CMBPlotter, MCMCDiagnostics\n",
    "from cmb_analysis.utils.statistics import fisher_matrix\n",
    "\n",
    "%matplotlib inline\n",
    "plt.style.use('seaborn-v0_8-paper')"
   ]
  },
  {
   "cell_type": "markdown",
   "metadata": {},
   "source": [
    "## 1. Implementing a Custom Cosmological Model\n",
    "\n",
    "Let's implement a modified gravity model as an example."
   ]
  },
  {
   "cell_type": "code",
   "execution_count": null,
   "metadata": {},
   "source": [
    "class ModifiedGravityModel(CosmologyModel):\n",
    "    \"\"\"Example modified gravity model with additional parameter μ_0.\"\"\"\n",
    "    \n",
    "    def __init__(self):\n",
    "        super().__init__()\n",
    "        self.param_info = {\n",
    "            'H0': (67.32, 0.54),\n",
    "            'omega_b': (0.02237, 0.00015),\n",
    "            'omega_cdm': (0.1200, 0.0012),\n",
    "            'tau': (0.0544, 0.0073),\n",
    "            'ns': (0.9649, 0.0042),\n",
    "            'ln10As': (3.044, 0.014),\n",
    "            'mu_0': (1.0, 0.1)  # Modified gravity parameter\n",
    "        }\n",
    "    \n",
    "    def H(self, z, params):\n",
    "        \"\"\"Modified Hubble parameter.\"\"\"\n",
    "        H0 = params['H0']\n",
    "        omega_m = (params['omega_b'] + params['omega_cdm']) / (H0/100)**2\n",
    "        mu = params['mu_0'] * (1 + z)**(-0.5)  # Scale-dependent modification\n",
    "        return H0 * np.sqrt(omega_m * (1+z)**3 * mu + (1-omega_m))\n",
    "\n",
    "# Initialize model\n",
    "mg_model = ModifiedGravityModel()"
   ]
  },
  {
   "cell_type": "markdown",
   "metadata": {},
   "source": [
    "## 2. Advanced MCMC Techniques\n",
    "\n",
    "Let's implement parallel tempering MCMC for better exploration of parameter space."
   ]
  },
  {
   "cell_type": "code",
   "execution_count": null,
   "metadata": {},
   "source": [
    "def setup_parallel_tempering(n_temps=5, max_temp=50):\n",
    "    \"\"\"Set up parallel tempering temperatures.\"\"\"\n",
    "    return np.geomspace(1, max_temp, n_temps)\n",
    "\n",
    "# Generate mock data\n",
    "calculator = PowerSpectrumCalculator()\n",
    "true_params = mg_model.param_info.copy()\n",
    "true_params['mu_0'] = (1.0, 0.1)  # Add modified gravity parameter\n",
    "\n",
    "# Set up parallel tempering\n",
    "temperatures = setup_parallel_tempering()\n",
    "chains = []\n",
    "\n",
    "for temp in temperatures:\n",
    "    mcmc = MCMCAnalysis(\n",
    "        calculator,\n",
    "        mock_data,\n",
    "        true_params,\n",
    "        temperature=temp\n",
    "    )\n",
    "    mcmc.run_mcmc()\n",
    "    chains.append(mcmc)"
   ]
  },
  {
   "cell_type": "markdown",
   "metadata": {},
   "source": [
    "## 3. Advanced Error Analysis\n",
    "\n",
    "Let's compute Fisher matrices and perform error forecasting."
   ]
  },
  {
   "cell_type": "code",
   "execution_count": null,
   "metadata": {},
   "source": [
    "# Compute Fisher matrix\n",
    "def compute_fisher(params, calculator, errors):\n",
    "    return fisher_matrix(\n",
    "        params,\n",
    "        calculator.compute_all_spectra,\n",
    "        errors\n",
    "    )\n",
    "\n",
    "# Get Fisher matrix\n",
    "F = compute_fisher(true_params, calculator, mock_data)\n",
    "\n",
    "# Compute parameter uncertainties\n",
    "param_errors = np.sqrt(np.diag(np.linalg.inv(F)))\n",
    "\n",
    "print(\"Forecasted parameter uncertainties:\")\n",
    "for param, error in zip(true_params.keys(), param_errors):\n",
    "    print(f\"{param}: ±{error:.6f}\")"
   ]
  },
  {
   "cell_type": "markdown",
   "metadata": {},
   "source": [
    "## 4. Publication-Quality Visualization\n",
    "\n",
    "Create publication-ready plots with error estimates."
   ]
  },
  {
   "cell_type": "code",
   "execution_count": null,
   "metadata": {},
   "source": [
    "plotter = CMBPlotter()\n",
    "\n",
    "# Plot power spectra with theory variations\n",
    "fig = plotter.plot_theory_variation(\n",
    "    np.arange(len(mock_data['tt_data'])),\n",
    "    chains[0].get_chain(flat=True),\n",
    "    calculator.compute_all_spectra,\n",
    "    n_curves=100\n",
    ")\n",
    "\n",
    "# Save in publication format\n",
    "plotter.save_publication_plots('power_spectra', fig)\n",
    "\n",
    "# Create comprehensive diagnostic plot\n",
    "diagnostics = MCMCDiagnostics()\n",
    "fig = diagnostics.plot_diagnostic_summary(\n",
    "    chains[0].get_chain(),\n",
    "    list(true_params.keys()),\n",
    "    chains[0].sampler.acceptance_fraction.mean()\n",
    ")\n",
    "plt.show()"
   ]
  },
  {
   "cell_type": "markdown",
   "metadata": {},
   "source": [
    "## 5. Model Comparison\n",
    "\n",
    "Compare standard ΛCDM with our modified gravity model."
   ]
  },
  {
   "cell_type": "code",
   "execution_count": null,
   "metadata": {},
   "source": [
    "def compute_evidence(chain):\n",
    "    \"\"\"Compute model evidence using thermodynamic integration.\"\"\"\n",
    "    log_likes = chain.get_log_prob(flat=True)\n",
    "    return np.mean(log_likes)\n",
    "\n",
    "# Compare models\n",
    "lcdm_model = LCDM()\n",
    "lcdm_chain = MCMCAnalysis(calculator, mock_data, lcdm_model.param_info)\n",
    "lcdm_chain.run_mcmc()\n",
    "\n",
    "# Compute Bayes factor\n",
    "evidence_mg = compute_evidence(chains[0])\n",
    "evidence_lcdm = compute_evidence(lcdm_chain)\n",
    "bayes_factor = np.exp(evidence_mg - evidence_lcdm)\n",
    "\n",
    "print(f\"log Bayes factor (MG vs ΛCDM): {np.log(bayes_factor):.2f}\")"
   ]
  },
  {
   "cell_type": "markdown",
   "metadata": {},
   "source": [
    "## 6. Conclusion\n",
    "\n",
    "This notebook demonstrated advanced analysis techniques including:\n",
    "1. Custom model implementation\n",
    "2. Parallel tempering MCMC\n",
    "3. Fisher matrix analysis\n",
    "4. Model comparison\n",
    "5. Publication-quality visualization\n",
    "\n",
    "These techniques provide a comprehensive framework for advanced CMB analysis."
   ]
  }
 ]
}