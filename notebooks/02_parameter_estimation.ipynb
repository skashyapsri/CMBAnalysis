{
 "cells": [
  {
   "cell_type": "markdown",
   "metadata": {},
   "source": [
    "# Parameter Estimation with MCMC\n",
    "\n",
    "This notebook demonstrates how to perform cosmological parameter estimation using MCMC techniques.\n",
    "\n",
    "## Setup"
   ]
  },
  {
   "cell_type": "code",
   "execution_count": null,
   "metadata": {},
   "source": [
    "import numpy as np\n",
    "import matplotlib.pyplot as plt\n",
    "from cmb_analysis.cosmology import LCDM\n",
    "from cmb_analysis.analysis import PowerSpectrumCalculator, MCMCAnalysis\n",
    "from cmb_analysis.visualization import CMBPlotter, MCMCDiagnostics\n",
    "\n",
    "%matplotlib inline\n",
    "plt.style.use('seaborn-v0_8-paper')"
   ]
  },
  {
   "cell_type": "markdown",
   "metadata": {},
   "source": [
    "## 1. Generate Mock Data\n",
    "\n",
    "First, let's generate some mock CMB data with realistic noise."
   ]
  },
  {
   "cell_type": "code",
   "execution_count": null,
   "metadata": {},
   "source": [
    "# True parameters\n",
    "true_params = {\n",
    "    'H0': 67.32,\n",
    "    'omega_b': 0.02237,\n",
    "    'omega_cdm': 0.1200,\n",
    "    'tau': 0.0544,\n",
    "    'ns': 0.9649,\n",
    "    'ln10As': 3.044\n",
    "}\n",
    "\n",
    "# Generate mock data\n",
    "calculator = PowerSpectrumCalculator()\n",
    "cl_tt, cl_ee, cl_te = calculator.compute_all_spectra(true_params)\n",
    "\n",
    "# Add noise\n",
    "noise_level = 0.01\n",
    "mock_data = {\n",
    "    'tt_data': cl_tt * (1 + noise_level * np.random.randn(len(cl_tt))),\n",
    "    'te_data': cl_te * (1 + noise_level * np.random.randn(len(cl_te))),\n",
    "    'ee_data': cl_ee * (1 + noise_level * np.random.randn(len(cl_ee))),\n",
    "    'tt_error': cl_tt * noise_level,\n",
    "    'te_error': cl_te * noise_level,\n",
    "    'ee_error': cl_ee * noise_level\n",
    "}"
   ]
  },
  {
   "cell_type": "markdown",
   "metadata": {},
   "source": [
    "## 2. Set Up MCMC Analysis\n",
    "\n",
    "Now we'll configure and run the MCMC analysis."
   ]
  },
  {
   "cell_type": "code",
   "execution_count": null,
   "metadata": {},
   "source": [
    "# Initialize MCMC analysis\n",
    "mcmc = MCMCAnalysis(calculator, mock_data, true_params)\n",
    "\n",
    "# Run MCMC\n",
    "print(\"Running MCMC...\")\n",
    "mcmc.run_mcmc(progress=True)"
   ]
  },
  {
   "cell_type": "markdown",
   "metadata": {},
   "source": [
    "## 3. Analyze MCMC Results\n",
    "\n",
    "Let's examine the MCMC chain and parameter constraints."
   ]
  },
  {
   "cell_type": "code",
   "execution_count": null,
   "metadata": {},
   "source": [
    "# Get chain\n",
    "chain = mcmc.get_chain()\n",
    "\n",
    "# Initialize diagnostics\n",
    "diagnostics = MCMCDiagnostics()\n",
    "\n",
    "# Plot chain evolution\n",
    "fig = diagnostics.plot_chain_evolution(\n",
    "    chain,\n",
    "    list(true_params.keys())\n",
    ")\n",
    "plt.show()\n",
    "\n",
    "# Plot corner plot\n",
    "fig = diagnostics.plot_corner(\n",
    "    chain[1000:].reshape(-1, len(true_params)),\n",
    "    list(true_params.keys()),\n",
    "    truths=list(true_params.values())\n",
    ")\n",
    "plt.show()"
   ]
  },
  {
   "cell_type": "markdown",
   "metadata": {},
   "source": [
    "## 4. Compute Parameter Constraints\n",
    "\n",
    "Let's calculate the parameter constraints from our MCMC chains."
   ]
  },
  {
   "cell_type": "code",
   "execution_count": null,
   "metadata": {},
   "source": [
    "# Get statistics\n",
    "stats = mcmc.compute_statistics()\n",
    "\n",
    "print(\"Parameter Constraints:\")\n",
    "for param, values in stats.items():\n",
    "    print(f\"{param}: {values['mean']:.4f} ± {values['std']:.4f}\")\n",
    "\n",
    "# Compare with true values\n",
    "print(\"\\nComparison with true values:\")\n",
    "for param in true_params:\n",
    "    diff = abs(stats[param]['mean'] - true_params[param]) / stats[param]['std']\n",
    "    print(f\"{param}: {diff:.2f}σ from true value\")"
   ]
  },
  {
   "cell_type": "markdown",
   "metadata": {},
   "source": [
    "## 5. Assess Convergence\n",
    "\n",
    "Let's check the convergence of our MCMC chains."
   ]
  },
  {
   "cell_type": "code",
   "execution_count": null,
   "metadata": {},
   "source": [
    "# Compute convergence diagnostics\n",
    "conv_stats = mcmc.compute_convergence_diagnostics()\n",
    "\n",
    "print(\"Convergence Diagnostics:\")\n",
    "print(f\"Mean acceptance fraction: {conv_stats['acceptance_fraction']:.3f}\\n\")\n",
    "\n",
    "print(\"Gelman-Rubin Statistics:\")\n",
    "for param, gr in conv_stats['gelman_rubin'].items():\n",
    "    print(f\"{param}: {gr:.3f}\")\n",
    "\n",
    "print(\"\\nEffective Sample Size:\")\n",
    "for param, n_eff in conv_stats['effective_samples'].items():\n",
    "    print(f\"{param}: {n_eff:.0f}\")"
   ]
  },
  {
   "cell_type": "markdown",
   "metadata": {},
   "source": [
    "## 6. Plot Best-Fit Results\n",
    "\n",
    "Finally, let's compare our best-fit model with the data."
   ]
  },
  {
   "cell_type": "code",
   "execution_count": null,
   "metadata": {},
   "source": [
    "# Get best-fit parameters\n",
    "best_fit_params = mcmc.get_best_fit()\n",
    "\n",
    "# Compute best-fit spectra\n",
    "cl_tt_best, cl_ee_best, cl_te_best = calculator.compute_all_spectra(best_fit_params)\n",
    "\n",
    "# Plot comparison\n",
    "plotter = CMBPlotter()\n",
    "theory = {\n",
    "    'cl_tt': cl_tt_best,\n",
    "    'cl_ee': cl_ee_best,\n",
    "    'cl_te': cl_te_best\n",
    "}\n",
    "data = {\n",
    "    'cl_tt': mock_data['tt_data'],\n",
    "    'cl_ee': mock_data['ee_data'],\n",
    "    'cl_te': mock_data['te_data']\n",
    "}\n",
    "errors = {\n",
    "    'cl_tt': mock_data['tt_error'],\n",
    "    'cl_ee': mock_data['ee_error'],\n",
    "    'cl_te': mock_data['te_error']\n",
    "}\n",
    "\n",
    "fig = plotter.plot_power_spectra(theory, data, errors)\n",
    "plt.show()\n",
    "\n",
    "# Plot residuals\n",
    "fig = plotter.plot_residuals(theory, data, errors)\n",
    "plt.show()"
   ]
  },
  {
   "cell_type": "markdown",
   "metadata": {},
   "source": [
    "## 7. Conclusion\n",
    "\n",
    "In this notebook, we've demonstrated:\n",
    "\n",
    "1. Setting up and running MCMC analysis\n",
    "2. Examining chain convergence\n",
    "3. Computing parameter constraints\n",
    "4. Visualizing results\n",
    "\n",
    "The results show good agreement with our input parameters, demonstrating the effectiveness of our parameter estimation pipeline."
   ]
  }
 ]
}