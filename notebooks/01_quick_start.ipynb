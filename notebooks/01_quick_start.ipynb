{
 "cells": [
  {
   "cell_type": "markdown",
   "metadata": {},
   "source": [
    "# Quick Start Guide to CMB Analysis\n",
    "\n",
    "This notebook provides a quick introduction to using the CMB Analysis package for analyzing Cosmic Microwave Background radiation data.\n",
    "\n",
    "## Setup\n",
    "\n",
    "First, let's import the necessary modules and set up our environment."
   ]
  },
  {
   "cell_type": "code",
   "execution_count": null,
   "metadata": {},
   "source": [
    "import numpy as np\n",
    "import matplotlib.pyplot as plt\n",
    "\n",
    "from cmb_analysis.cosmology import LCDM\n",
    "from cmb_analysis.analysis import PowerSpectrumCalculator\n",
    "from cmb_analysis.visualization import CMBPlotter\n",
    "from cmb_analysis.constants import constants\n",
    "\n",
    "%matplotlib inline\n",
    "plt.style.use('seaborn-v0_8-paper')"
   ]
  },
  {
   "cell_type": "markdown",
   "metadata": {},
   "source": [
    "## 1. Setting up the Cosmological Model\n",
    "\n",
    "Let's create a standard ΛCDM model with Planck 2018 parameters."
   ]
  },
  {
   "cell_type": "code",
   "execution_count": null,
   "metadata": {},
   "source": [
    "# Initialize ΛCDM model\n",
    "model = LCDM()\n",
    "\n",
    "# Set cosmological parameters (Planck 2018 values)\n",
    "params = {\n",
    "    'H0': 67.32,        # Hubble constant\n",
    "    'omega_b': 0.02237, # Baryon density\n",
    "    'omega_cdm': 0.1200,# Cold dark matter density\n",
    "    'tau': 0.0544,      # Optical depth\n",
    "    'ns': 0.9649,       # Spectral index\n",
    "    'ln10As': 3.044     # Primordial amplitude\n",
    "}\n",
    "\n",
    "print(\"Model parameters:\")\n",
    "for param, value in params.items():\n",
    "    print(f\"{param}: {value}\")"
   ]
  },
  {
   "cell_type": "markdown",
   "metadata": {},
   "source": [
    "## 2. Computing CMB Power Spectra\n",
    "\n",
    "Now we'll compute the theoretical CMB power spectra (TT, TE, EE)."
   ]
  },
  {
   "cell_type": "code",
   "execution_count": null,
   "metadata": {},
   "source": [
    "# Initialize power spectrum calculator\n",
    "calculator = PowerSpectrumCalculator()\n",
    "\n",
    "# Compute spectra\n",
    "cl_tt, cl_ee, cl_te = calculator.compute_all_spectra(params)\n",
    "\n",
    "# Get ell values\n",
    "ell = np.arange(len(cl_tt))\n",
    "\n",
    "# Convert to D_l = l(l+1)C_l/(2π)\n",
    "dl_tt = ell * (ell + 1) * cl_tt / (2 * np.pi)\n",
    "dl_ee = ell * (ell + 1) * cl_ee / (2 * np.pi)\n",
    "dl_te = ell * (ell + 1) * cl_te / (2 * np.pi)"
   ]
  },
  {
   "cell_type": "markdown",
   "metadata": {},
   "source": [
    "## 3. Visualizing Results\n",
    "\n",
    "Let's create publication-quality plots of our results."
   ]
  },
  {
   "cell_type": "code",
   "execution_count": null,
   "metadata": {},
   "source": [
    "# Initialize plotter\n",
    "plotter = CMBPlotter()\n",
    "\n",
    "# Create comprehensive plot\n",
    "theory = {\n",
    "    'cl_tt': cl_tt,\n",
    "    'cl_ee': cl_ee,\n",
    "    'cl_te': cl_te\n",
    "}\n",
    "\n",
    "# Add mock data with errors\n",
    "noise_level = 0.01\n",
    "data = {\n",
    "    'cl_tt': cl_tt * (1 + noise_level * np.random.randn(len(cl_tt))),\n",
    "    'cl_ee': cl_ee * (1 + noise_level * np.random.randn(len(cl_ee))),\n",
    "    'cl_te': cl_te * (1 + noise_level * np.random.randn(len(cl_te)))\n",
    "}\n",
    "\n",
    "errors = {\n",
    "    'cl_tt': cl_tt * noise_level,\n",
    "    'cl_ee': cl_ee * noise_level,\n",
    "    'cl_te': cl_te * noise_level\n",
    "}\n",
    "\n",
    "fig = plotter.plot_power_spectra(theory, data, errors)\n",
    "plt.show()"
   ]
  },
  {
   "cell_type": "markdown",
   "metadata": {},
   "source": [
    "## 4. Analyzing the Results\n",
    "\n",
    "Let's examine some key features of our power spectra."
   ]
  },
  {
   "cell_type": "code",
   "execution_count": null,
   "metadata": {},
   "source": [
    "# Find acoustic peaks in TT spectrum\n",
    "def find_peaks(dl, ell, min_prominence=100):\n",
    "    from scipy.signal import find_peaks\n",
    "    peaks, _ = find_peaks(dl, prominence=min_prominence)\n",
    "    return peaks\n",
    "\n",
    "tt_peaks = find_peaks(dl_tt[2:], ell[2:])\n",
    "\n",
    "print(\"Acoustic peak locations (ℓ):\")\n",
    "for i, peak in enumerate(tt_peaks, 1):\n",
    "    print(f\"Peak {i}: ℓ ≈ {ell[peak+2]}\")"
   ]
  },
  {
   "cell_type": "markdown",
   "metadata": {},
   "source": [
    "## 5. Computing Derived Parameters\n",
    "\n",
    "Let's calculate some derived cosmological parameters."
   ]
  },
  {
   "cell_type": "code",
   "execution_count": null,
   "metadata": {},
   "source": [
    "# Calculate matter density parameter\n",
    "omega_m = params['omega_b'] + params['omega_cdm']\n",
    "Omega_m = omega_m / (params['H0']/100)**2\n",
    "\n",
    "# Calculate age of universe\n",
    "age = model.age_of_universe(params)\n",
    "\n",
    "print(f\"Derived parameters:\")\n",
    "print(f\"Ωm = {Omega_m:.4f}\")\n",
    "print(f\"Age of Universe = {age:.2f} Gyr\")"
   ]
  },
  {
   "cell_type": "markdown",
   "metadata": {},
   "source": [
    "## 6. Next Steps\n",
    "\n",
    "This quick start guide demonstrated the basic functionality of the CMB Analysis package. For more advanced topics, see:\n",
    "\n",
    "1. Parameter estimation (Notebook 02)\n",
    "2. Advanced analysis techniques (Notebook 03)\n",
    "3. Package documentation"
   ]
  }
 ],
 "metadata": {
  "kernelspec": {
   "display_name": "Python 3",
   "language": "python",
   "name": "python3"
  }
 }
}