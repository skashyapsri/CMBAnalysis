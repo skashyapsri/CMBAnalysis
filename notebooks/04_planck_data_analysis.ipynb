{
 "cells": [
  {
   "cell_type": "markdown",
   "metadata": {},
   "source": [
    "# Analysis of Planck Legacy Archive Data\n",
    "\n",
    "This notebook demonstrates how to use the CMB Analysis framework with real Planck data."
   ]
  },
  {
   "cell_type": "code",
   "execution_count": null,
   "metadata": {},
   "source": [
    "import numpy as np\n",
    "import matplotlib.pyplot as plt\n",
    "from cmb_analysis.cosmology import LCDM\n",
    "from cmb_analysis.analysis import PowerSpectrumCalculator\n",
    "from cmb_analysis.visualization import CMBPlotter\n",
    "from cmb_analysis.data.planck_loader import PlanckDataLoader\n",
    "\n",
    "%matplotlib inline\n",
    "plt.style.use('seaborn-v0_8-paper')"
   ]
  },
  {
   "cell_type": "markdown",
   "metadata": {},
   "source": [
    "## 1. Load Planck Data"
   ]
  },
  {
   "cell_type": "code",
   "execution_count": null,
   "metadata": {},
   "source": [
    "# Initialize data loader\n",
    "planck = PlanckDataLoader()\n",
    "\n",
    "# Load theoretical and observed spectra\n",
    "theory_data = planck.load_theory_spectra()\n",
    "observed_data = planck.load_observed_spectra()\n",
    "\n",
    "# Get calibration factor\n",
    "cal_factor = planck.get_calibration_factor()\n",
    "print(f\"Planck calibration factor: {cal_factor}\")"
   ]
  },
  {
   "cell_type": "markdown",
   "metadata": {},
   "source": [
    "## 2. Compare Theory with Data"
   ]
  },
  {
   "cell_type": "code",
   "execution_count": null,
   "metadata": {},
   "source": [
    "plotter = CMBPlotter()\n",
    "\n",
    "# Prepare data for plotting\n",
    "theory = {\n",
    "    'cl_tt': theory_data['tt'] * cal_factor**2,\n",
    "    'cl_te': theory_data['te'] * cal_factor**2,\n",
    "    'cl_ee': theory_data['ee'] * cal_factor**2\n",
    "}\n",
    "\n",
    "data = {\n",
    "    'cl_tt': observed_data['tt']['spectrum'],\n",
    "    'cl_te': observed_data['te']['spectrum'],\n",
    "    'cl_ee': observed_data['ee']['spectrum']\n",
    "}\n",
    "\n",
    "errors = {\n",
    "    'cl_tt': (observed_data['tt']['error_plus'] + observed_data['tt']['error_minus'])/2,\n",
    "    'cl_te': (observed_data['te']['error_plus'] + observed_data['te']['error_minus'])/2,\n",
    "    'cl_ee': (observed_data['ee']['error_plus'] + observed_data['ee']['error_minus'])/2\n",
    "}\n",
    "\n",
    "# Plot comparison\n",
    "fig = plotter.plot_power_spectra(theory, data, errors)\n",
    "plt.show()"
   ]
  },
  {
   "cell_type": "markdown",
   "metadata": {},
   "source": [
    "## 3. Compute Residuals"
   ]
  },
  {
   "cell_type": "code",
   "execution_count": null,
   "metadata": {},
   "source": [
    "# Plot residuals\n",
    "fig = plotter.plot_residuals(theory, data, errors)\n",
    "plt.show()\n",
    "\n",
    "# Compute chi-square\n",
    "chi2 = planck.compute_chi_square(theory)\n",
    "print(\"Chi-square values:\")\n",
    "for spec, value in chi2.items():\n",
    "    print(f\"{spec.upper()}: {value:.2f}\")"
   ]
  },
  {
   "cell_type": "markdown",
   "metadata": {},
   "source": [
    "## 4. Parameter Estimation"
   ]
  },
  {
   "cell_type": "code",
   "execution_count": null,
   "metadata": {},
   "source": [
    "from cmb_analysis.analysis import MCMCAnalysis\n",
    "\n",
    "# Set up MCMC analysis\n",
    "calculator = PowerSpectrumCalculator()\n",
    "mcmc = MCMCAnalysis(calculator, data, errors)\n",
    "\n",
    "# Run MCMC\n",
    "results = mcmc.run_mcmc()\n",
    "\n",
    "# Plot parameter constraints\n",
    "from cmb_analysis.visualization import MCMCDiagnostics\n",
    "diagnostics = MCMCDiagnostics()\n",
    "\n",
    "fig = diagnostics.plot_parameter_constraints(results)\n",
    "plt.show()"
   ]
  }
 ]
}